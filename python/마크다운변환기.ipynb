{
 "cells": [
  {
   "cell_type": "code",
   "execution_count": 1,
   "metadata": {},
   "outputs": [],
   "source": [
    "from nbconvert import MarkdownExporter\n",
    "import nbformat\n",
    "\n",
    "def convert_notebook_to_markdown(notebook_path, output_path):\n",
    "    # 노트북 파일 로드\n",
    "    with open(notebook_path, 'r', encoding = 'utf-8') as f:\n",
    "        nb = nbformat.read(f, as_version = 4)\n",
    "    \n",
    "    # Markdown 변환기 생성\n",
    "    md_exporter = MarkdownExporter()\n",
    "    \n",
    "    # Markdown으로 변환\n",
    "    (body, resources) = md_exporter.from_notebook_node(nb)\n",
    "    \n",
    "    # Markdown 파일 저장\n",
    "    with open(output_path, 'w', encoding = 'utf-8') as f:\n",
    "        f.write(body)\n",
    "\n",
    "# 변환할 노트북 파일 경로와 저장할 Markdown 파일 경로 지정\n",
    "notebook_path = r'C:\\Users\\YONSAI\\Desktop\\study\\python\\ML DL\\2023-06-13-tensorflow.ipynb'\n",
    "output_path = r'C:\\Users\\YONSAI\\Desktop\\study\\python\\ML DL\\2023-06-13-tensorflow.md'\n",
    "\n",
    "# 노트북을 Markdown으로 변환\n",
    "convert_notebook_to_markdown(notebook_path, output_path)"
   ]
  }
 ],
 "metadata": {
  "kernelspec": {
   "display_name": "base",
   "language": "python",
   "name": "python3"
  },
  "language_info": {
   "codemirror_mode": {
    "name": "ipython",
    "version": 3
   },
   "file_extension": ".py",
   "mimetype": "text/x-python",
   "name": "python",
   "nbconvert_exporter": "python",
   "pygments_lexer": "ipython3",
   "version": "3.9.13"
  },
  "orig_nbformat": 4
 },
 "nbformat": 4,
 "nbformat_minor": 2
}
