{
 "cells": [
  {
   "attachments": {},
   "cell_type": "markdown",
   "metadata": {},
   "source": [
    "# 1. 라이브러리 설치"
   ]
  },
  {
   "cell_type": "code",
   "execution_count": 45,
   "metadata": {},
   "outputs": [],
   "source": [
    "import smtplib\n",
    "from email.mime.multipart import MIMEMultipart\n",
    "from email.mime.text import MIMEText"
   ]
  },
  {
   "attachments": {},
   "cell_type": "markdown",
   "metadata": {},
   "source": [
    "**smtplib**은 SMTP(Simple Mail Transfer Protocool) 클라이언트를 제공하는 파이썬 내장 라이브러리 입니다. 이를 사용해 이메일을 보낼 수 있습니다. <br/>\n",
    "**email.mime.mulitpart** 모듈은 다중파트(Multipart) 이메일 메시지를 생성하기 위한 클래스인 **MIMEMultipart**를 제공합니다. <br/>\n",
    "**email.mime.text** 모듈은 텍스트 이메일 메시지를 생성하기 위한 클래스인 **MIMEText**를 제공합니다."
   ]
  },
  {
   "attachments": {},
   "cell_type": "markdown",
   "metadata": {},
   "source": [
    "# 2. SMTP 서버 설정"
   ]
  },
  {
   "cell_type": "code",
   "execution_count": 46,
   "metadata": {},
   "outputs": [],
   "source": [
    "smtp_server = 'smtp.gmail.com' # 이메일 제공 업체에 따라 다를 수 있음.\n",
    "smtp_port = 587 # SMTP 포트 번호"
   ]
  },
  {
   "attachments": {},
   "cell_type": "markdown",
   "metadata": {},
   "source": [
    "보안 연결인 STARTTLS를 지원하는 SMTP 서버를 사용하고 있으므로, 보통 587번 포트를 사용합니다. STARTTLS는 일반적으로 보안 연결을 위해 사용되는 암호화 방식 중 하나입니다. 이를 통해 이메일 전송 시 클라이언트(이메일 전송 프로그램)와 서버 간의 통신이 암호화되어 데이터의 안정성이 보장됩니다."
   ]
  },
  {
   "attachments": {},
   "cell_type": "markdown",
   "metadata": {},
   "source": [
    "# 3. 정보"
   ]
  },
  {
   "cell_type": "code",
   "execution_count": 47,
   "metadata": {},
   "outputs": [],
   "source": [
    "# 보내는 사람 정보\n",
    "sender_email = 'jangcoding77@gmail.com'\n",
    "sender_password = '' # 이메일 계정의 암호\n",
    "\n",
    "# 받는 사람 정보\n",
    "receiver_email = 'jangcoding77@gmail.com'"
   ]
  },
  {
   "attachments": {},
   "cell_type": "markdown",
   "metadata": {},
   "source": [
    "# 4. 구성"
   ]
  },
  {
   "cell_type": "code",
   "execution_count": 48,
   "metadata": {},
   "outputs": [],
   "source": [
    "# 이메일 구성\n",
    "message = MIMEMultipart()\n",
    "message['From'] = sender_email # 발신자 주소\n",
    "message['To'] = receiver_email # 수신자 주소\n",
    "message['Subject'] = '자동화된 이메일 전송' # 이메일 제목\n",
    "\n",
    "body = '이메일 전송이 성공적으로 이루어졌습니다.' # 이메일 본문\n",
    "message.attach(MIMEText(body, 'plain')) # 본문을 이메일 메시지에 첨부"
   ]
  },
  {
   "attachments": {},
   "cell_type": "markdown",
   "metadata": {},
   "source": [
    "**MIMEMultipart** 클래스를 사용하여 message라는 이메일 메시지 객체를 생성합니다. **MIMEMultipart**는 다중파트(Multipart)이메일 메시지를 구성하기 위한 클래스로 복수의 파트(Part)로 구성되어 있으며, 각 파트는 텍스트, 첨부 파일, 이미지 등 다양한 유형의 컨텐츠를 포함할 수 있습니다. <br/>\n",
    "<br/>\n",
    "**plain**은 본문이 일반 텍스트 형식임을 나타냅니다. 다른 형식으로 이메일을 작성하고 싶다면 'html'등 다른 형식을 사용할 수 있습니다."
   ]
  },
  {
   "attachments": {},
   "cell_type": "markdown",
   "metadata": {},
   "source": [
    "# 5. SMTP 서버 연결 및 이메일 전송"
   ]
  },
  {
   "cell_type": "code",
   "execution_count": 49,
   "metadata": {},
   "outputs": [
    {
     "name": "stdout",
     "output_type": "stream",
     "text": [
      "이메일이 성공적으로 전송되었습니다!\n"
     ]
    }
   ],
   "source": [
    "try:\n",
    "    with smtplib.SMTP(smtp_server, smtp_port) as server:\n",
    "        server.starttls() # TLS 암호화 시작\n",
    "        server.login(sender_email, sender_password)\n",
    "        server.send_message(message)\n",
    "    print('이메일이 성공적으로 전송되었습니다!')\n",
    "except Exception as e:\n",
    "    print('이메일 전송 중 오류가 발생했습니다: ', str(e))"
   ]
  },
  {
   "attachments": {},
   "cell_type": "markdown",
   "metadata": {},
   "source": [
    "# 6. 오류\n",
    "Username and Password not accepted. 오류가 나오는 경우가 있습니다. 해당 메세지가 나오면서 URL이 하나 나올텐데 그 URL에 나와있는대로 하면 해결됩니다. 저의 경우엔, 2단계 인증을 하지 않아서 오류가 났었습니다. 2단계 인증을 하고 앱 비밀번호를 받으니 잘 전송되었습니다. (IMAP 설정도 해야합니다.) <br/>\n",
    "<br/>\n",
    "패스워드를 입력하는 곳에서 앱 비밀번호를 넣으면 됩니다."
   ]
  }
 ],
 "metadata": {
  "kernelspec": {
   "display_name": "Python 3",
   "language": "python",
   "name": "python3"
  },
  "language_info": {
   "codemirror_mode": {
    "name": "ipython",
    "version": 3
   },
   "file_extension": ".py",
   "mimetype": "text/x-python",
   "name": "python",
   "nbconvert_exporter": "python",
   "pygments_lexer": "ipython3",
   "version": "3.10.10"
  },
  "orig_nbformat": 4
 },
 "nbformat": 4,
 "nbformat_minor": 2
}
