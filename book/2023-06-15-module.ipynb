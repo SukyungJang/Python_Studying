{
 "cells": [
  {
   "attachments": {},
   "cell_type": "markdown",
   "metadata": {},
   "source": [
    "# 1. 모듈과 패키지\n",
    "모듈(module)은 재사용할 목적으로 작성된 Python 소스 파일을 의미하며, import문으로 로딩하여 사용한다. 예를 들어 os 모듈은 os.py라는 파일로 작성되어 있으며 사용시에는 import os 등으로 로딩한다."
   ]
  },
  {
   "cell_type": "code",
   "execution_count": 1,
   "metadata": {},
   "outputs": [
    {
     "data": {
      "text/plain": [
       "'c:\\\\Users\\\\82104\\\\OneDrive\\\\바탕 화면\\\\study\\\\python\\\\book'"
      ]
     },
     "execution_count": 1,
     "metadata": {},
     "output_type": "execute_result"
    }
   ],
   "source": [
    "import os\n",
    "os.getcwd()"
   ]
  },
  {
   "attachments": {},
   "cell_type": "markdown",
   "metadata": {},
   "source": [
    "abs(), complex(), int(), list(), ord() 등의 내장함수(built-in function)를 제외한 모든 함수, 클래스들은 항상 모듈에 포함된다. <br/>\n",
    "<br/>\n",
    "math 등의 일부 내장 모듈(built-in module)은 Python 언어 자체에 포함되어 있지만 나머지 모듈 / 패키지는 별도 파일 형태로 존재한다."
   ]
  },
  {
   "cell_type": "code",
   "execution_count": 2,
   "metadata": {},
   "outputs": [
    {
     "data": {
      "text/plain": [
       "('_abc',\n",
       " '_ast',\n",
       " '_bisect',\n",
       " '_blake2',\n",
       " '_codecs',\n",
       " '_codecs_cn',\n",
       " '_codecs_hk',\n",
       " '_codecs_iso2022',\n",
       " '_codecs_jp',\n",
       " '_codecs_kr',\n",
       " '_codecs_tw',\n",
       " '_collections',\n",
       " '_contextvars',\n",
       " '_csv',\n",
       " '_datetime',\n",
       " '_functools',\n",
       " '_heapq',\n",
       " '_imp',\n",
       " '_io',\n",
       " '_json',\n",
       " '_locale',\n",
       " '_lsprof',\n",
       " '_md5',\n",
       " '_multibytecodec',\n",
       " '_opcode',\n",
       " '_operator',\n",
       " '_pickle',\n",
       " '_random',\n",
       " '_sha1',\n",
       " '_sha256',\n",
       " '_sha3',\n",
       " '_sha512',\n",
       " '_signal',\n",
       " '_sre',\n",
       " '_stat',\n",
       " '_statistics',\n",
       " '_string',\n",
       " '_struct',\n",
       " '_symtable',\n",
       " '_thread',\n",
       " '_tracemalloc',\n",
       " '_warnings',\n",
       " '_weakref',\n",
       " '_winapi',\n",
       " '_xxsubinterpreters',\n",
       " 'array',\n",
       " 'atexit',\n",
       " 'audioop',\n",
       " 'binascii',\n",
       " 'builtins',\n",
       " 'cmath',\n",
       " 'errno',\n",
       " 'faulthandler',\n",
       " 'gc',\n",
       " 'itertools',\n",
       " 'marshal',\n",
       " 'math',\n",
       " 'mmap',\n",
       " 'msvcrt',\n",
       " 'nt',\n",
       " 'sys',\n",
       " 'time',\n",
       " 'winreg',\n",
       " 'xxsubtype',\n",
       " 'zlib')"
      ]
     },
     "execution_count": 2,
     "metadata": {},
     "output_type": "execute_result"
    }
   ],
   "source": [
    "import sys\n",
    "sys.builtin_module_names"
   ]
  },
  {
   "attachments": {},
   "cell_type": "markdown",
   "metadata": {},
   "source": [
    "패키지(package)는 모듈을 디렉토리 구조로 묶어놓은 것을 의미한다. 예를 들어 os는 os.py라는 파일로 존재하지만 대표적 수치 패키지인 NumPy는 numpy라는 폴더 내에 여러 모듈이 존재한다."
   ]
  },
  {
   "attachments": {},
   "cell_type": "markdown",
   "metadata": {},
   "source": [
    "# 2. 모듈"
   ]
  },
  {
   "attachments": {},
   "cell_type": "markdown",
   "metadata": {},
   "source": [
    "## 2-1. 모듈 작성과 사용\n",
    "모듈(module)은 단순히 재사용을 염두에 두고 작성한 Python 소스파일을 의미한다. 예를 들어 다음과 같이 mysolve.py라는 파일에 Newton 법과 bisection 법으로 방정식의 해를 구하는 함수를 작성했다고 가정하기로 한다."
   ]
  },
  {
   "cell_type": "code",
   "execution_count": 3,
   "metadata": {},
   "outputs": [],
   "source": [
    "# mysolver.py\n",
    "tol = 1E-10\n",
    "maxiter = 50\n",
    "\n",
    "def solve_by_newton(func, der, x0):\n",
    "    \"\"\" solve equation by newton method \"\"\"\n",
    "    x = x0\n",
    "    for i in range(maxiter):\n",
    "        f, df = func(x), der(x)\n",
    "        if abs(f) < tol:\n",
    "            return x\n",
    "        x = x-f/df\n",
    "    return None\n",
    "\n",
    "def solve_by_bisection(func, lb, ub):\n",
    "    \"\"\" solve equation by bisection method \"\"\"\n",
    "    for i in range(maxiter):\n",
    "        x = (lb + ub) / 2\n",
    "        if func(x) == 0 or (ub - lb) / 2 < tol:\n",
    "            return x\n",
    "        elif func(lb) * func(x) < 0:\n",
    "            ub = x\n",
    "        else:\n",
    "            lb = x\n",
    "    return None"
   ]
  },
  {
   "cell_type": "code",
   "execution_count": 4,
   "metadata": {},
   "outputs": [
    {
     "name": "stdout",
     "output_type": "stream",
     "text": [
      "tol =  1e-10\n",
      "x =  3.2360679774998244 ,  3.2360679774865275\n"
     ]
    }
   ],
   "source": [
    "# 모듈 사용\n",
    "# import mysolver\n",
    "\n",
    "def func(x):\n",
    "    return x * x - 2 * x - 4\n",
    "\n",
    "def der(x):\n",
    "    return 2 * x - 2 # f(x), f'(x)\n",
    "\n",
    "xNewton = solve_by_newton(func, der, 10) # 앞에 mysolver 붙여야 함.\n",
    "xBisection = solve_by_bisection(func, 0, 10)\n",
    "\n",
    "print('tol = ', tol)\n",
    "print('x = ', xNewton, ', ', xBisection)"
   ]
  },
  {
   "attachments": {},
   "cell_type": "markdown",
   "metadata": {},
   "source": [
    "모듈을 사용하는 것은 확장자를 뺀 파일 이름으로 import module 형태로 로딩하여 사용하면 된다. 코드에서 확인할 수 있듯이 모듈 내의 함수, 변수, 클래스 등은 module.xxx 등과 같은 형태로 사용한다. 이 때 module은 namespace 역할을 한다. <br/>"
   ]
  },
  {
   "attachments": {},
   "cell_type": "markdown",
   "metadata": {},
   "source": [
    "## 2-2. 스크립트로 모듈 실행(모듈 테스트)\n",
    "모듈은 기본적으로 import 문으로 스크립트나 다른 모듈에서 호출되어 사용되는 용도로 작성한다. 하지만 모듈을 작성 후 테스트를 수행하기 위해 스크립트로 실행될 수 있다. 이 경우 모듈 하단에 __name__속성이 '__main__'인지 확인하여 실행시키는 것이 일반적인 방법이다. 다음은 Python 공식 튜토리얼에 소개된 fibo 모듈이다."
   ]
  },
  {
   "cell_type": "code",
   "execution_count": null,
   "metadata": {},
   "outputs": [],
   "source": [
    "def fib(n): # write Fibonacci series up to n\n",
    "    a, b = 0, 1\n",
    "    while b < n:\n",
    "        print(b, end = ' ')\n",
    "        a, b = b, a + b\n",
    "    print()\n",
    "\n",
    "if __name__ == '__main__':\n",
    "    import sys\n",
    "    fib(int(sys.argv[1]))"
   ]
  },
  {
   "attachments": {},
   "cell_type": "markdown",
   "metadata": {},
   "source": [
    "스크립트 실행\n",
    "> python fibo.py 100 <br/>\n",
    "1 1 2 3 5 8 13 21 34 55 89"
   ]
  },
  {
   "attachments": {},
   "cell_type": "markdown",
   "metadata": {},
   "source": [
    "인터프리터에서 사용하면 실행되지 않는다."
   ]
  },
  {
   "attachments": {},
   "cell_type": "markdown",
   "metadata": {},
   "source": [
    "## 2-3. dir() 함수\n",
    "내장함수 dir(module)은 모듈에서 정의하고 있는 변수, 함수 등을 출력해준다. 다음은 sys 모듈에 대해 임포트 후 dir(sys)를 적용한 예이다."
   ]
  },
  {
   "cell_type": "code",
   "execution_count": 2,
   "metadata": {},
   "outputs": [
    {
     "data": {
      "text/plain": [
       "['__breakpointhook__',\n",
       " '__displayhook__',\n",
       " '__doc__',\n",
       " '__excepthook__',\n",
       " '__interactivehook__',\n",
       " '__loader__',\n",
       " '__name__',\n",
       " '__package__',\n",
       " '__spec__',\n",
       " '__stderr__',\n",
       " '__stdin__',\n",
       " '__stdout__',\n",
       " '__unraisablehook__',\n",
       " '_base_executable',\n",
       " '_clear_type_cache',\n",
       " '_current_exceptions',\n",
       " '_current_frames',\n",
       " '_deactivate_opcache',\n",
       " '_debugmallocstats',\n",
       " '_enablelegacywindowsfsencoding',\n",
       " '_framework',\n",
       " '_getframe',\n",
       " '_git',\n",
       " '_home',\n",
       " '_xoptions',\n",
       " 'addaudithook',\n",
       " 'api_version',\n",
       " 'argv',\n",
       " 'audit',\n",
       " 'base_exec_prefix',\n",
       " 'base_prefix',\n",
       " 'breakpointhook',\n",
       " 'builtin_module_names',\n",
       " 'byteorder',\n",
       " 'call_tracing',\n",
       " 'copyright',\n",
       " 'displayhook',\n",
       " 'dllhandle',\n",
       " 'dont_write_bytecode',\n",
       " 'exc_info',\n",
       " 'excepthook',\n",
       " 'exec_prefix',\n",
       " 'executable',\n",
       " 'exit',\n",
       " 'flags',\n",
       " 'float_info',\n",
       " 'float_repr_style',\n",
       " 'get_asyncgen_hooks',\n",
       " 'get_coroutine_origin_tracking_depth',\n",
       " 'get_int_max_str_digits',\n",
       " 'getallocatedblocks',\n",
       " 'getdefaultencoding',\n",
       " 'getfilesystemencodeerrors',\n",
       " 'getfilesystemencoding',\n",
       " 'getprofile',\n",
       " 'getrecursionlimit',\n",
       " 'getrefcount',\n",
       " 'getsizeof',\n",
       " 'getswitchinterval',\n",
       " 'gettrace',\n",
       " 'getwindowsversion',\n",
       " 'hash_info',\n",
       " 'hexversion',\n",
       " 'implementation',\n",
       " 'int_info',\n",
       " 'intern',\n",
       " 'is_finalizing',\n",
       " 'last_traceback',\n",
       " 'last_type',\n",
       " 'last_value',\n",
       " 'maxsize',\n",
       " 'maxunicode',\n",
       " 'meta_path',\n",
       " 'modules',\n",
       " 'orig_argv',\n",
       " 'path',\n",
       " 'path_hooks',\n",
       " 'path_importer_cache',\n",
       " 'platform',\n",
       " 'platlibdir',\n",
       " 'prefix',\n",
       " 'ps1',\n",
       " 'ps2',\n",
       " 'ps3',\n",
       " 'pycache_prefix',\n",
       " 'set_asyncgen_hooks',\n",
       " 'set_coroutine_origin_tracking_depth',\n",
       " 'set_int_max_str_digits',\n",
       " 'setprofile',\n",
       " 'setrecursionlimit',\n",
       " 'setswitchinterval',\n",
       " 'settrace',\n",
       " 'stderr',\n",
       " 'stdin',\n",
       " 'stdlib_module_names',\n",
       " 'stdout',\n",
       " 'thread_info',\n",
       " 'unraisablehook',\n",
       " 'version',\n",
       " 'version_info',\n",
       " 'warnoptions',\n",
       " 'winver']"
      ]
     },
     "execution_count": 2,
     "metadata": {},
     "output_type": "execute_result"
    }
   ],
   "source": [
    "import sys\n",
    "dir(sys)"
   ]
  },
  {
   "attachments": {},
   "cell_type": "markdown",
   "metadata": {},
   "source": [
    "# 3. 패키지\n",
    "패키지(package)는 디렉토리 형태로 관련 모듈을 모아둔 것으로 이해할 수 있다. 보다 전문적으로 이야기하면 점(.)으로 모듈 이름을 활용할 수 있또록 구조화하는 방법을 의미한다. 다음은 Python 공식 튜토리얼에 소개된 설명을 정리한 것이다.<br/>\n",
    "<br/>\n",
    "사운드 관련 패키지를 만든다고 가정하기로 한다. 이 경우 다음과 같은 파일 구조로 라이브러리를 구성한다."
   ]
  },
  {
   "cell_type": "code",
   "execution_count": null,
   "metadata": {},
   "outputs": [],
   "source": [
    "sound/                          Top-level package\n",
    "      __init__.py               Initialize the sound package\n",
    "      formats/                  Subpackage for file format conversions\n",
    "              __init__.py\n",
    "              wavread.py\n",
    "              wavwrite.py\n",
    "              auread.py\n",
    "              auwrite.py\n",
    "              ...\n",
    "      effects/                  Subpackage for sound effects\n",
    "              __init__.py\n",
    "              echo.py\n",
    "              surround.py\n",
    "              reverse.py\n",
    "              ...\n",
    "      filters/                  Subpackage for filters\n",
    "              __init__.py\n",
    "              equalizer.py\n",
    "              vocoder.py\n",
    "              karaoke.py\n",
    "              ..."
   ]
  },
  {
   "attachments": {},
   "cell_type": "markdown",
   "metadata": {},
   "source": [
    "이 라이브러리를 사용하는 것은 점(.)이 있으면 모듈명 import 할 수 있다 예를 들어 echo.py에 echofilter(...)라는 함수를 사용하려면 다음과 같다."
   ]
  },
  {
   "cell_type": "code",
   "execution_count": null,
   "metadata": {},
   "outputs": [],
   "source": [
    "import sound.effects.echo\n",
    "sound.effects.echo.echofilter(input, output, delay = 0.7, atten = 4)"
   ]
  },
  {
   "cell_type": "code",
   "execution_count": null,
   "metadata": {},
   "outputs": [],
   "source": [
    "from sound.effects import echo\n",
    "echo.echofilter(input,output,delay=0.7,atten=4)"
   ]
  },
  {
   "cell_type": "code",
   "execution_count": null,
   "metadata": {},
   "outputs": [],
   "source": [
    "from sound.effects.echo import echofilter\n",
    "echofilter(input,output,delay=0.7,atten=4)"
   ]
  },
  {
   "cell_type": "code",
   "execution_count": null,
   "metadata": {},
   "outputs": [],
   "source": [
    "from sound.effects.echo import *\n",
    "echofilter(input,output,delay=0.7,atten=4)"
   ]
  },
  {
   "attachments": {},
   "cell_type": "markdown",
   "metadata": {},
   "source": [
    "경우에 따라서 부 패키지(sub-package) 자체를 임포트할 수 있다. 즉, 원칙적으로 from module import * 형태 대신 from package import * 등과 같이 사용하려면 \\_\\_init\\_\\_.py에 \\_\\_all\\_\\_ 속성에 모듈명을 리스트 형태로 나열해야만 한다."
   ]
  },
  {
   "attachments": {},
   "cell_type": "markdown",
   "metadata": {},
   "source": [
    "# 4. 라이브러리화된 모듈"
   ]
  },
  {
   "attachments": {},
   "cell_type": "markdown",
   "metadata": {},
   "source": [
    "## 4-1. 모듈 찾기 경로\n",
    "한 프로젝트 내에서 사용되는 모듈은 같은 디렉토리 내에 존재하면 import로 로딩하여 사용하면 된다. 만약 라이브러리화해서 다른 프로젝트에도 사용하려면 Python에서 모듈을 찾는 경로를 이해해야 한다. <br/>\n",
    "<br/>\n",
    "Python에서 import 문으로 주어진 모듈은 다음의 순서를 찾는다.\n",
    "- 현재 작업 디렉토리(current working directory)\n",
    "- Python 인스톨 디렉토리와 그 하위의 lib/site-packages 디렉토리 (Python 인터프리터마다 조금씩 다름)\n",
    "- 환경변수 PYTHONPATH에 지정된 디렉토리"
   ]
  },
  {
   "cell_type": "code",
   "execution_count": 3,
   "metadata": {},
   "outputs": [
    {
     "data": {
      "text/plain": [
       "['c:\\\\Users\\\\82104\\\\OneDrive\\\\바탕 화면\\\\study\\\\python\\\\book',\n",
       " 'c:\\\\Program Files\\\\Python310\\\\python310.zip',\n",
       " 'c:\\\\Program Files\\\\Python310\\\\DLLs',\n",
       " 'c:\\\\Program Files\\\\Python310\\\\lib',\n",
       " 'c:\\\\Program Files\\\\Python310',\n",
       " '',\n",
       " 'C:\\\\Users\\\\82104\\\\AppData\\\\Roaming\\\\Python\\\\Python310\\\\site-packages',\n",
       " 'C:\\\\Users\\\\82104\\\\AppData\\\\Roaming\\\\Python\\\\Python310\\\\site-packages\\\\win32',\n",
       " 'C:\\\\Users\\\\82104\\\\AppData\\\\Roaming\\\\Python\\\\Python310\\\\site-packages\\\\win32\\\\lib',\n",
       " 'C:\\\\Users\\\\82104\\\\AppData\\\\Roaming\\\\Python\\\\Python310\\\\site-packages\\\\Pythonwin',\n",
       " 'c:\\\\Program Files\\\\Python310\\\\lib\\\\site-packages']"
      ]
     },
     "execution_count": 3,
     "metadata": {},
     "output_type": "execute_result"
    }
   ],
   "source": [
    "# working directory를 제외한 모듈 위치는 sys.path를 통해 접근\n",
    "import sys\n",
    "sys.path"
   ]
  },
  {
   "attachments": {},
   "cell_type": "markdown",
   "metadata": {},
   "source": [
    "## 4-2. 자신만의 라이브러리화된 모듈 / 패키지\n",
    "프로그램의 규모가 커지면 소스파일을 모듈로 분리하여 같은 디렉토리에 있도록 하여 실행한다. 만약 일부 모듈을 다른 프로그램에도 사용하려면 위에 설명한 바와 같이 모듈의 위치를 PYTHONPATH나 sys.path에 등록해야 한다."
   ]
  },
  {
   "cell_type": "code",
   "execution_count": null,
   "metadata": {},
   "outputs": [],
   "source": [
    "# 환경변수 PYTHONPATH에 추가하는 방법: 항상 추가된다.\n",
    "import myutils as utils\n",
    "area = utils.compute_area([0, 0, 1, 0, 2, 1])"
   ]
  },
  {
   "cell_type": "code",
   "execution_count": null,
   "metadata": {},
   "outputs": [],
   "source": [
    "# sys.path에 추가하는 방법 : 현재 Python 프로세스에서만 유효하다.\n",
    "import sys\n",
    "sys.path.append(r'주소')\n",
    "\n",
    "import myutils as utils\n",
    "area = utils.compute_area([0, 0, 1, 0, 2, 1])"
   ]
  }
 ],
 "metadata": {
  "kernelspec": {
   "display_name": "Python 3",
   "language": "python",
   "name": "python3"
  },
  "language_info": {
   "codemirror_mode": {
    "name": "ipython",
    "version": 3
   },
   "file_extension": ".py",
   "mimetype": "text/x-python",
   "name": "python",
   "nbconvert_exporter": "python",
   "pygments_lexer": "ipython3",
   "version": "3.10.10"
  },
  "orig_nbformat": 4
 },
 "nbformat": 4,
 "nbformat_minor": 2
}
