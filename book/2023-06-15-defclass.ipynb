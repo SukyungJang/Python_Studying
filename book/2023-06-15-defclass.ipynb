{
 "cells": [
  {
   "attachments": {},
   "cell_type": "markdown",
   "metadata": {},
   "source": [
    "공학자를 위한 Python 책을 참고하여 작성하였습니다. <br/>\n",
    "- 책 제목: 공학자를 위한 Python\n",
    "- 지은이: 조정래\n",
    "- url: <https://wikidocs.net/book/1704>"
   ]
  },
  {
   "attachments": {},
   "cell_type": "markdown",
   "metadata": {},
   "source": [
    "# 1. 함수\n",
    "Python에서 함수는 **def function(...):** 형태로 정의한다."
   ]
  },
  {
   "cell_type": "code",
   "execution_count": 4,
   "metadata": {},
   "outputs": [
    {
     "name": "stdout",
     "output_type": "stream",
     "text": [
      "3\n",
      "1 2 3\n",
      "logo text ...\n"
     ]
    }
   ],
   "source": [
    "def add(a, b):\n",
    "    return a + b\n",
    "\n",
    "def printSomething(a, b, c):\n",
    "    print(a, b, c)\n",
    "\n",
    "def printLogo():\n",
    "    print('logo text ...')\n",
    "\n",
    "c = add(1, 2)\n",
    "\n",
    "print(c)\n",
    "printSomething(1, 2, 3)\n",
    "printLogo()"
   ]
  },
  {
   "attachments": {},
   "cell_type": "markdown",
   "metadata": {},
   "source": [
    "## 1-1. 함수의 리턴값\n",
    "여러 값을 리턴할 때 튜플로 반환한다. 값을 받을 때는 한 개의 변수로 받을 수도 있고 unpack 기능을 이용해 리턴값으로 튜플을 모아도 된다."
   ]
  },
  {
   "cell_type": "code",
   "execution_count": null,
   "metadata": {},
   "outputs": [],
   "source": [
    "def computeProps(n, p, q):\n",
    "    ...\n",
    "    return (a, b, c)\n",
    "\n",
    "r = computeProps(...)\n",
    "(a, b, c) = computeProps(...) # unpack 활용\n",
    "a, b, c = computeProps(...) # 위와 동일"
   ]
  },
  {
   "attachments": {},
   "cell_type": "markdown",
   "metadata": {},
   "source": [
    "## 1-2. Immutable과 Mutable 타입의 인자\n",
    "Immutable 자료형(숫자, 문자열 등 기본 자료형과 쓰기가 불가능한 컨테이너인 tuple)은 함수 내에서 값을 변경하더라도 호출 측에서 값이 변경되지 않는다. 즉 call by value로 인자가 전달된다.\n",
    "- immutable: 변경할 수 없는, 불변의"
   ]
  },
  {
   "cell_type": "code",
   "execution_count": 5,
   "metadata": {},
   "outputs": [
    {
     "name": "stdout",
     "output_type": "stream",
     "text": [
      "1 2\n"
     ]
    }
   ],
   "source": [
    "def foo(a, b):\n",
    "    a = 100\n",
    "    b = 200\n",
    "\n",
    "a = 1\n",
    "b = 2\n",
    "\n",
    "foo(a, b)\n",
    "print(a, b) # 1, 2 출력"
   ]
  },
  {
   "attachments": {},
   "cell_type": "markdown",
   "metadata": {},
   "source": [
    "Mutable 자료형(쓰기가 가능한 컨테이너인 list, dictionary, ndarray 등)이 함수의 인자로 전달되는 경우 함수 안에서 값이 변경될 수 있다는 점에 주의해야 한다. C / C++ 관점에서 보면 call by reference로 인자를 전달하는 것이다.\n",
    "- mutable: 변할 수 있는, 잘 변하는"
   ]
  },
  {
   "cell_type": "code",
   "execution_count": 6,
   "metadata": {},
   "outputs": [
    {
     "name": "stdout",
     "output_type": "stream",
     "text": [
      "[1, 2, 3, 100]\n"
     ]
    }
   ],
   "source": [
    "def foo(x):\n",
    "    x.append(100)\n",
    "\n",
    "x = [1, 2, 3]\n",
    "foo(x)\n",
    "print(x) # 1, 2, 3, 100"
   ]
  },
  {
   "attachments": {},
   "cell_type": "markdown",
   "metadata": {},
   "source": [
    "위에서 인자로 넘겨진 x는 mutable 자료형인 리스트이므로, 함수 내에서 변경하는 경우 함수 호출 이후에도 값이 바뀌게 된다. <br/>\n",
    "<br/>\n",
    "인자로 mutable 자료형을 전달했을 때 함수 내에서 값이 바뀌는지 여부를 주의해야 하지만, 다른 한편으로는 리턴값이 아닌 인자를 받아오도록 설계하는 데 사용할 수도 있다."
   ]
  },
  {
   "cell_type": "code",
   "execution_count": 7,
   "metadata": {},
   "outputs": [
    {
     "name": "stdout",
     "output_type": "stream",
     "text": [
      "0.26\n",
      "[1.  0.2]\n"
     ]
    }
   ],
   "source": [
    "import numpy as np\n",
    "\n",
    "def myfunc(x, grad):\n",
    "    f = x[0] * x[0] + x[1] * x[1]\n",
    "    grad[0] = 2 * x[0]\n",
    "    grad[1] = 2 * x[1]\n",
    "\n",
    "    return f\n",
    "\n",
    "x = np.array([0.5, 0.1])\n",
    "grad = np.zeros(2) # 길이가 2인 0 벡터 생성\n",
    "f = myfunc(x, grad)\n",
    "print(f)\n",
    "print(grad)"
   ]
  },
  {
   "attachments": {},
   "cell_type": "markdown",
   "metadata": {},
   "source": [
    "np.zeros(2)는 주어진 크기의 모든 요소가 0으로 초기화된 배열을 생성합니다. 이 경우에는 길이가 2인 1차원 배열이 생성됩니다."
   ]
  },
  {
   "attachments": {},
   "cell_type": "markdown",
   "metadata": {},
   "source": [
    "## 1-3. 디폴트 인자의 지정"
   ]
  },
  {
   "cell_type": "code",
   "execution_count": null,
   "metadata": {},
   "outputs": [],
   "source": [
    "def computeIgIcr(n, b, h, Ast, dt, Asc, dc, opt = 'exact'):\n",
    "    ...\n",
    "Ig = computeIg(n, b, h, Ast, dt, Asc, dt)\n",
    "\n",
    "Ig = computeIg(n, b, h, Ast, dt, Asc, dt, 'appr')"
   ]
  },
  {
   "attachments": {},
   "cell_type": "markdown",
   "metadata": {},
   "source": [
    "## 1-4. *arg와 **kwargs\n",
    "인자의 개수가 정해지지 않을 때 사용하는 것이 *arg와 **kwargs이다."
   ]
  },
  {
   "cell_type": "code",
   "execution_count": 9,
   "metadata": {},
   "outputs": [
    {
     "name": "stdout",
     "output_type": "stream",
     "text": [
      "6\n"
     ]
    }
   ],
   "source": [
    "def add(*args):\n",
    "    r = 0\n",
    "    for v in args:\n",
    "        r += v\n",
    "    return r\n",
    "\n",
    "r = add(1, 2, 3)\n",
    "print(r)"
   ]
  },
  {
   "attachments": {},
   "cell_type": "markdown",
   "metadata": {},
   "source": [
    "*args에서 *은 여러개의 인자를 튜플로 묶어 args 변수로 함수로 전달하게 된다. 위에서 arg = (1, 2, 3) 형태로 전달하게 된다. 일반 인자와도 같이 사용할 수 있는데 항상 뒤에 와야 한다. def foo(x, *args) 형태이고, foo(1, 2, 3, 4, 5)로 호출했다면 x = 1, args = (2, 3, 4, 5)로 전달하는 식이다. <br/>\n",
    "<br/>\n",
    "비슷한 것으로 **kwargs가 있다. 이는 keyword arguments로 이해할 수 있는데 keyword1 = value1, keyword2 = value2, ... 형태를 dictionary로 만들어 준다."
   ]
  },
  {
   "cell_type": "code",
   "execution_count": 10,
   "metadata": {},
   "outputs": [
    {
     "name": "stdout",
     "output_type": "stream",
     "text": [
      "{'a': 1, 'b': 2, 'c': 3}\n",
      "a = 1\n",
      "b = 2\n",
      "c = 3\n"
     ]
    }
   ],
   "source": [
    "def myfunc(**kwargs):\n",
    "    print(kwargs)\n",
    "    for key, value in kwargs.items():\n",
    "        print(key, '=', value)\n",
    "myfunc(a = 1, b = 2, c = 3)"
   ]
  },
  {
   "attachments": {},
   "cell_type": "markdown",
   "metadata": {},
   "source": [
    "*args와 **kwargs는 일반 인자와 함께 사용될 수 있으며, 순서는 항상 다음과 같다."
   ]
  },
  {
   "cell_type": "code",
   "execution_count": 11,
   "metadata": {},
   "outputs": [],
   "source": [
    "def some_func(fargs, *args, **kwargs):\n",
    "    pass"
   ]
  },
  {
   "attachments": {},
   "cell_type": "markdown",
   "metadata": {},
   "source": [
    "## 1-5. 변수의 범위(scope)\n",
    "함수 내에 사용하는 변수는 local scope를 갖는다."
   ]
  },
  {
   "attachments": {},
   "cell_type": "markdown",
   "metadata": {},
   "source": [
    "## 함수 내 함수\n",
    "Python은 C/C++과 달리 함수 내에서 함수를 정의해서 사용할 수 있다. 함수 내 함수는 자신을 둘러싼 함수의 변수를 마치 전역변수처럼 사용할 수 있기 때문에 사용하기에 따라 매우 편리하게 사용가능하다."
   ]
  },
  {
   "cell_type": "code",
   "execution_count": 13,
   "metadata": {},
   "outputs": [],
   "source": [
    "def outside():\n",
    "    outsideList = [1, 2]\n",
    "    def nested():\n",
    "        outsideList.append(3)\n",
    "    nested()\n",
    "    print(outsideList)"
   ]
  },
  {
   "attachments": {},
   "cell_type": "markdown",
   "metadata": {},
   "source": [
    "# 2. 클래스\n",
    "Python의 클래스는 class 키워드를 통해 선언할 수 있다. 다음은 가장 간단하게 정의한 예이다."
   ]
  },
  {
   "cell_type": "code",
   "execution_count": 14,
   "metadata": {},
   "outputs": [],
   "source": [
    "class Simple:\n",
    "    pass"
   ]
  },
  {
   "attachments": {},
   "cell_type": "markdown",
   "metadata": {},
   "source": [
    "위와 같이 정의한 후 객체를 생성한 후 멤버변수를 추가할 수도 있다."
   ]
  },
  {
   "cell_type": "code",
   "execution_count": 15,
   "metadata": {},
   "outputs": [],
   "source": [
    "a = Simple()\n",
    "a.name = 'Jane'\n",
    "a.phone = '123-456-7890'"
   ]
  },
  {
   "cell_type": "code",
   "execution_count": 16,
   "metadata": {},
   "outputs": [],
   "source": [
    "# 일반적인 사용법\n",
    "class Account:\n",
    "    numOfAccount = 0\n",
    "    def __init__(self, name):\n",
    "        self.name = name;\n",
    "        self.balances = 0\n",
    "        Account.numOfAccount += 1\n",
    "    def withdraw(self, value):\n",
    "        self.balances -= value\n",
    "        return self.balances\n",
    "    def deposit(self, value):\n",
    "        self.balances += value\n",
    "        return self.balances\n",
    "    def __del__(self):\n",
    "        Account.numOfAccount -= 0"
   ]
  },
  {
   "cell_type": "code",
   "execution_count": 17,
   "metadata": {},
   "outputs": [
    {
     "data": {
      "text/plain": [
       "10"
      ]
     },
     "execution_count": 17,
     "metadata": {},
     "output_type": "execute_result"
    }
   ],
   "source": [
    "a1 = Account('John')\n",
    "a1.deposit(10)"
   ]
  },
  {
   "cell_type": "code",
   "execution_count": 18,
   "metadata": {},
   "outputs": [
    {
     "data": {
      "text/plain": [
       "8"
      ]
     },
     "execution_count": 18,
     "metadata": {},
     "output_type": "execute_result"
    }
   ],
   "source": [
    "a1.withdraw(2)"
   ]
  },
  {
   "cell_type": "code",
   "execution_count": 19,
   "metadata": {},
   "outputs": [
    {
     "name": "stdout",
     "output_type": "stream",
     "text": [
      "8\n"
     ]
    }
   ],
   "source": [
    "print(a1.balances)"
   ]
  },
  {
   "cell_type": "code",
   "execution_count": 20,
   "metadata": {},
   "outputs": [
    {
     "name": "stdout",
     "output_type": "stream",
     "text": [
      "no of Account :  1\n"
     ]
    }
   ],
   "source": [
    "print('no of Account : ', Account.numOfAccount)"
   ]
  },
  {
   "attachments": {},
   "cell_type": "markdown",
   "metadata": {},
   "source": [
    "Account 클래스는 클래스 단위로 정의한 변수(클래스 변수, C의 static variable과 동일)인 numOfAccount, 인스턴스 변수(C의 멤버변수) name, balances, 생성자 __init__(), 소멸자 __del__(), 일반 메서드 withdraw(), deposit()등을 정의하고 있다. self는 C 클래스 정의 시 생략되는 this 포인터와 같은 역할을 한다. 또한 Python에서는 기본적으로 멤버와 메서드가 public 속성을 지닌다. 만약 private으로 하고 싶을 때 두 개의 밑줄 __ 로 시작하도록 이름을 정의하면 된다. 메서드에 self 인자가 없는 경우 C의 static member와 동일하다. 이 함수에서는 클래스 멤버 변수를 조작하거나 단순히 namespace를 사용하는 함수처럼 사용해야 한다."
   ]
  },
  {
   "cell_type": "code",
   "execution_count": 21,
   "metadata": {},
   "outputs": [],
   "source": [
    "class Account:\n",
    "    numOfAccount = 0\n",
    "    ...\n",
    "    def makeZero(number):\n",
    "        Account.numOfAccount = number"
   ]
  },
  {
   "attachments": {},
   "cell_type": "markdown",
   "metadata": {},
   "source": [
    "Python의 클래스에서도 상속(inheritance)과 가상함수 등을 지원한다."
   ]
  },
  {
   "cell_type": "code",
   "execution_count": 22,
   "metadata": {},
   "outputs": [],
   "source": [
    "class Element:\n",
    "    def __init__(self, id):\n",
    "        self.id = id\n",
    "        self.nodeIds = []\n",
    "    def computeStiffness(self):\n",
    "        print('Element::computeStiffness')\n",
    "    def printElement(self):\n",
    "        print('id : %d' % self.id)\n",
    "\n",
    "class Q4Element(Element):\n",
    "    def __init__(self, id, nodeIds):\n",
    "        super().__init__(id) # or Element.__init__(self, id)\n",
    "        self.nodeIds = nodeIds\n",
    "\n",
    "        def computeStiffness(self):\n",
    "            print('Q4Element::computeStiffness')"
   ]
  },
  {
   "cell_type": "code",
   "execution_count": 23,
   "metadata": {},
   "outputs": [
    {
     "name": "stdout",
     "output_type": "stream",
     "text": [
      "id : 1\n"
     ]
    }
   ],
   "source": [
    "e = Q4Element(1, [1, 2, 3])\n",
    "e.printElement()"
   ]
  },
  {
   "cell_type": "code",
   "execution_count": 24,
   "metadata": {},
   "outputs": [
    {
     "name": "stdout",
     "output_type": "stream",
     "text": [
      "Element::computeStiffness\n"
     ]
    }
   ],
   "source": [
    "e.computeStiffness()"
   ]
  },
  {
   "attachments": {},
   "cell_type": "markdown",
   "metadata": {},
   "source": [
    "위에서 부모 클래스의 생성자인 __init__()를 호출하는 방법은 두 가지다. super().__init__(id) 등과 같이 self를 사용하는 방법과 Element.__init__(self, id)와 같이 클래스 이름을 사용하고 메서드에 self를 사용하는 방법이 있다. 이런 방법은 일반 메서드에서도 성립한다. 또한 이름이 같은 메서드가 가상함수가 된다."
   ]
  },
  {
   "attachments": {},
   "cell_type": "markdown",
   "metadata": {},
   "source": [
    "# 3. 정적함수를 이용한 다중 생성\n",
    "Python 클래스는 keyword 입력을 허용하기 때문에 다중 생성자를 쓰기 쉽지 않다. 이를 위해서는 variable 입력을 받든지, 정적함수를 이용하는 방법을 사용할 수 있다."
   ]
  },
  {
   "cell_type": "code",
   "execution_count": null,
   "metadata": {},
   "outputs": [],
   "source": [
    "# 방법 1\n",
    "class A:\n",
    "    def __init__(self, *arg, **karg):\n",
    "        ... arg와 karg를 분석"
   ]
  },
  {
   "cell_type": "code",
   "execution_count": 25,
   "metadata": {},
   "outputs": [],
   "source": [
    "# 정적함수\n",
    "class Rectangle:\n",
    "    def __init__(self):\n",
    "        self.a = None\n",
    "        self.b = None\n",
    "    def fromWithHeight(a, b):\n",
    "        r = A()\n",
    "        r.a = a\n",
    "        r.b = b\n",
    "        return r\n",
    "    def fromArea(a, area):\n",
    "        r = Rectangle()\n",
    "        r.a = a\n",
    "        r.b = area / a\n",
    "        return r"
   ]
  }
 ],
 "metadata": {
  "kernelspec": {
   "display_name": "Python 3",
   "language": "python",
   "name": "python3"
  },
  "language_info": {
   "codemirror_mode": {
    "name": "ipython",
    "version": 3
   },
   "file_extension": ".py",
   "mimetype": "text/x-python",
   "name": "python",
   "nbconvert_exporter": "python",
   "pygments_lexer": "ipython3",
   "version": "3.10.10"
  },
  "orig_nbformat": 4
 },
 "nbformat": 4,
 "nbformat_minor": 2
}
